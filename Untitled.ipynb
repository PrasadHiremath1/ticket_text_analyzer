{
 "cells": [
  {
   "cell_type": "code",
   "execution_count": 97,
   "id": "ede801e3-5423-43f4-88f5-6dbb5c5e9ea9",
   "metadata": {},
   "outputs": [],
   "source": [
    "import pandas as pd \n",
    "import numpy as np "
   ]
  },
  {
   "cell_type": "code",
   "execution_count": 98,
   "id": "0ac70882-32ab-45aa-a8bb-952fbf597d55",
   "metadata": {},
   "outputs": [],
   "source": [
    "df = pd.read_excel(\"ai_dev_assignment_tickets_complex_1000.xls\")"
   ]
  },
  {
   "cell_type": "code",
   "execution_count": 99,
   "id": "c0a93285-12f8-44c4-a3c1-6db3a3741407",
   "metadata": {},
   "outputs": [],
   "source": [
    "# !pip install xlrd\n",
    "# required for reading excel "
   ]
  },
  {
   "cell_type": "code",
   "execution_count": 100,
   "id": "77a520df-b16b-48d8-823c-c81121c7fcfe",
   "metadata": {},
   "outputs": [
    {
     "data": {
      "text/html": [
       "<div>\n",
       "<style scoped>\n",
       "    .dataframe tbody tr th:only-of-type {\n",
       "        vertical-align: middle;\n",
       "    }\n",
       "\n",
       "    .dataframe tbody tr th {\n",
       "        vertical-align: top;\n",
       "    }\n",
       "\n",
       "    .dataframe thead th {\n",
       "        text-align: right;\n",
       "    }\n",
       "</style>\n",
       "<table border=\"1\" class=\"dataframe\">\n",
       "  <thead>\n",
       "    <tr style=\"text-align: right;\">\n",
       "      <th></th>\n",
       "      <th>ticket_id</th>\n",
       "      <th>ticket_text</th>\n",
       "      <th>issue_type</th>\n",
       "      <th>urgency_level</th>\n",
       "      <th>product</th>\n",
       "    </tr>\n",
       "  </thead>\n",
       "  <tbody>\n",
       "    <tr>\n",
       "      <th>0</th>\n",
       "      <td>1</td>\n",
       "      <td>Payment issue for my SmartWatch V2. I was unde...</td>\n",
       "      <td>Billing Problem</td>\n",
       "      <td>Medium</td>\n",
       "      <td>SmartWatch V2</td>\n",
       "    </tr>\n",
       "    <tr>\n",
       "      <th>1</th>\n",
       "      <td>2</td>\n",
       "      <td>Can you tell me more about the UltraClean Vacu...</td>\n",
       "      <td>General Inquiry</td>\n",
       "      <td>NaN</td>\n",
       "      <td>UltraClean Vacuum</td>\n",
       "    </tr>\n",
       "    <tr>\n",
       "      <th>2</th>\n",
       "      <td>3</td>\n",
       "      <td>I ordered SoundWave 300 but got EcoBreeze AC i...</td>\n",
       "      <td>Wrong Item</td>\n",
       "      <td>Medium</td>\n",
       "      <td>SoundWave 300</td>\n",
       "    </tr>\n",
       "    <tr>\n",
       "      <th>3</th>\n",
       "      <td>4</td>\n",
       "      <td>Facing installation issue with PhotoSnap Cam. ...</td>\n",
       "      <td>Installation Issue</td>\n",
       "      <td>Low</td>\n",
       "      <td>PhotoSnap Cam</td>\n",
       "    </tr>\n",
       "    <tr>\n",
       "      <th>4</th>\n",
       "      <td>5</td>\n",
       "      <td>Order #30903 for Vision LED TV is 13 days late...</td>\n",
       "      <td>Late Delivery</td>\n",
       "      <td>NaN</td>\n",
       "      <td>Vision LED TV</td>\n",
       "    </tr>\n",
       "  </tbody>\n",
       "</table>\n",
       "</div>"
      ],
      "text/plain": [
       "   ticket_id                                        ticket_text  \\\n",
       "0          1  Payment issue for my SmartWatch V2. I was unde...   \n",
       "1          2  Can you tell me more about the UltraClean Vacu...   \n",
       "2          3  I ordered SoundWave 300 but got EcoBreeze AC i...   \n",
       "3          4  Facing installation issue with PhotoSnap Cam. ...   \n",
       "4          5  Order #30903 for Vision LED TV is 13 days late...   \n",
       "\n",
       "           issue_type urgency_level            product  \n",
       "0     Billing Problem        Medium      SmartWatch V2  \n",
       "1     General Inquiry           NaN  UltraClean Vacuum  \n",
       "2          Wrong Item        Medium      SoundWave 300  \n",
       "3  Installation Issue           Low      PhotoSnap Cam  \n",
       "4       Late Delivery           NaN      Vision LED TV  "
      ]
     },
     "execution_count": 100,
     "metadata": {},
     "output_type": "execute_result"
    }
   ],
   "source": [
    "df.head()"
   ]
  },
  {
   "cell_type": "code",
   "execution_count": 101,
   "id": "5038d946-5d03-4d68-bd90-d0dc42a196b5",
   "metadata": {},
   "outputs": [
    {
     "data": {
      "text/plain": [
       "(1000, 5)"
      ]
     },
     "execution_count": 101,
     "metadata": {},
     "output_type": "execute_result"
    }
   ],
   "source": [
    "df.shape"
   ]
  },
  {
   "cell_type": "code",
   "execution_count": 102,
   "id": "2ed92dd4-13dd-45ba-a081-1731f363ed01",
   "metadata": {},
   "outputs": [
    {
     "data": {
      "text/plain": [
       "ticket_id         int64\n",
       "ticket_text      object\n",
       "issue_type       object\n",
       "urgency_level    object\n",
       "product          object\n",
       "dtype: object"
      ]
     },
     "execution_count": 102,
     "metadata": {},
     "output_type": "execute_result"
    }
   ],
   "source": [
    "df.dtypes"
   ]
  },
  {
   "cell_type": "code",
   "execution_count": 103,
   "id": "3faf8088-6394-4556-8298-4c25d5123125",
   "metadata": {},
   "outputs": [
    {
     "name": "stdout",
     "output_type": "stream",
     "text": [
      "<class 'pandas.core.frame.DataFrame'>\n",
      "RangeIndex: 1000 entries, 0 to 999\n",
      "Data columns (total 5 columns):\n",
      " #   Column         Non-Null Count  Dtype \n",
      "---  ------         --------------  ----- \n",
      " 0   ticket_id      1000 non-null   int64 \n",
      " 1   ticket_text    945 non-null    object\n",
      " 2   issue_type     924 non-null    object\n",
      " 3   urgency_level  948 non-null    object\n",
      " 4   product        1000 non-null   object\n",
      "dtypes: int64(1), object(4)\n",
      "memory usage: 39.2+ KB\n"
     ]
    }
   ],
   "source": [
    "df.info()"
   ]
  },
  {
   "cell_type": "code",
   "execution_count": 104,
   "id": "4bb96927-9afb-4a92-95a9-666d51538ff1",
   "metadata": {},
   "outputs": [
    {
     "data": {
      "text/plain": [
       "ticket_id         0\n",
       "ticket_text      55\n",
       "issue_type       76\n",
       "urgency_level    52\n",
       "product           0\n",
       "dtype: int64"
      ]
     },
     "execution_count": 104,
     "metadata": {},
     "output_type": "execute_result"
    }
   ],
   "source": [
    "df.isnull().sum()"
   ]
  },
  {
   "cell_type": "code",
   "execution_count": 105,
   "id": "df432576-929c-488a-ad38-18ece9afb10d",
   "metadata": {},
   "outputs": [
    {
     "name": "stdout",
     "output_type": "stream",
     "text": [
      "urgency_level\n",
      "High      330\n",
      "Medium    319\n",
      "Low       299\n",
      "Name: count, dtype: int64\n",
      "issue_type\n",
      "Billing Problem       146\n",
      "General Inquiry       146\n",
      "Account Access        143\n",
      "Installation Issue    142\n",
      "Product Defect        121\n",
      "Wrong Item            114\n",
      "Late Delivery         112\n",
      "Name: count, dtype: int64\n"
     ]
    }
   ],
   "source": [
    "print(df['urgency_level'].value_counts())\n",
    "print(df['issue_type'].value_counts())"
   ]
  },
  {
   "cell_type": "code",
   "execution_count": null,
   "id": "81f8f1cf-f27e-42ee-8db2-a799080032fd",
   "metadata": {},
   "outputs": [],
   "source": [
    "df = df.dropna(subset=['ticket_text', 'issue_type', 'urgency_level']).copy() # added copy to prevent SettingWithCopyWarning"
   ]
  },
  {
   "cell_type": "code",
   "execution_count": 107,
   "id": "85da09d8-5317-4be3-af12-16f92e0ccb37",
   "metadata": {},
   "outputs": [],
   "source": [
    "# !pip install spacy\n"
   ]
  },
  {
   "cell_type": "code",
   "execution_count": 108,
   "id": "2294e241-43d6-4944-ac27-fa7a257350e1",
   "metadata": {},
   "outputs": [],
   "source": [
    "import spacy\n",
    "nlp = spacy.load(\"en_core_web_sm\")"
   ]
  },
  {
   "cell_type": "code",
   "execution_count": 109,
   "id": "6c666abf-8f16-4604-8059-5f6c519d173d",
   "metadata": {},
   "outputs": [],
   "source": [
    "# !python -m spacy download en_core_web_sm"
   ]
  },
  {
   "cell_type": "code",
   "execution_count": 110,
   "id": "a0872d55-5501-416a-888b-0037511cfe91",
   "metadata": {},
   "outputs": [],
   "source": [
    "def preprocess_txt(text):\n",
    "    if pd.isnull(text):\n",
    "        return \"\"\n",
    "    doc = nlp(text.lower())\n",
    "    tokens = [token.lemma_ for token in doc if token.is_alpha and not token.is_stop]\n",
    "    return \" \".join(tokens)\n"
   ]
  },
  {
   "cell_type": "code",
   "execution_count": 111,
   "id": "207589bd-4f39-4dfa-ae24-725757a81366",
   "metadata": {},
   "outputs": [
    {
     "data": {
      "text/plain": [
       "'Payment issue for my SmartWatch V2. I was underbilled for order #29224.'"
      ]
     },
     "execution_count": 111,
     "metadata": {},
     "output_type": "execute_result"
    }
   ],
   "source": [
    "df['ticket_text'][0]"
   ]
  },
  {
   "cell_type": "code",
   "execution_count": 112,
   "id": "a1248d49-4981-4dde-a150-c76d95c82f71",
   "metadata": {},
   "outputs": [
    {
     "data": {
      "text/plain": [
       "'payment issue smartwatch underbilled order'"
      ]
     },
     "execution_count": 112,
     "metadata": {},
     "output_type": "execute_result"
    }
   ],
   "source": [
    "preprocess_txt(df['ticket_text'][0])"
   ]
  },
  {
   "cell_type": "code",
   "execution_count": 113,
   "id": "62f791d0-2de8-48f5-85e7-2df503f736dd",
   "metadata": {},
   "outputs": [],
   "source": [
    "df['ticket_text_clean'] = df['ticket_text'].apply(preprocess_txt)"
   ]
  },
  {
   "cell_type": "code",
   "execution_count": 114,
   "id": "940dacf4-0821-4280-8ca8-693302738b2b",
   "metadata": {},
   "outputs": [
    {
     "data": {
      "text/html": [
       "<div>\n",
       "<style scoped>\n",
       "    .dataframe tbody tr th:only-of-type {\n",
       "        vertical-align: middle;\n",
       "    }\n",
       "\n",
       "    .dataframe tbody tr th {\n",
       "        vertical-align: top;\n",
       "    }\n",
       "\n",
       "    .dataframe thead th {\n",
       "        text-align: right;\n",
       "    }\n",
       "</style>\n",
       "<table border=\"1\" class=\"dataframe\">\n",
       "  <thead>\n",
       "    <tr style=\"text-align: right;\">\n",
       "      <th></th>\n",
       "      <th>ticket_id</th>\n",
       "      <th>ticket_text</th>\n",
       "      <th>issue_type</th>\n",
       "      <th>urgency_level</th>\n",
       "      <th>product</th>\n",
       "      <th>ticket_text_clean</th>\n",
       "    </tr>\n",
       "  </thead>\n",
       "  <tbody>\n",
       "    <tr>\n",
       "      <th>503</th>\n",
       "      <td>504</td>\n",
       "      <td>Received wrong product, order mixed up.</td>\n",
       "      <td>Wrong Item</td>\n",
       "      <td>Medium</td>\n",
       "      <td>SmartWatch V2</td>\n",
       "      <td>receive wrong product order mix</td>\n",
       "    </tr>\n",
       "    <tr>\n",
       "      <th>655</th>\n",
       "      <td>656</td>\n",
       "      <td>EcoBreeze AC is stuck. It stopped working afte...</td>\n",
       "      <td>Product Defect</td>\n",
       "      <td>Medium</td>\n",
       "      <td>EcoBreeze AC</td>\n",
       "      <td>ecobreeze ac stick stop work day</td>\n",
       "    </tr>\n",
       "    <tr>\n",
       "      <th>698</th>\n",
       "      <td>699</td>\n",
       "      <td>Can't log in to mi account. Keeps showing unkn...</td>\n",
       "      <td>Account Access</td>\n",
       "      <td>Low</td>\n",
       "      <td>Vision LED TV</td>\n",
       "      <td>log mi account keep show unknown issue help</td>\n",
       "    </tr>\n",
       "    <tr>\n",
       "      <th>175</th>\n",
       "      <td>176</td>\n",
       "      <td>Is this item in stock? Delivery expected by 05...</td>\n",
       "      <td>General Inquiry</td>\n",
       "      <td>Medium</td>\n",
       "      <td>SoundWave 300</td>\n",
       "      <td>item stock delivery expect</td>\n",
       "    </tr>\n",
       "    <tr>\n",
       "      <th>130</th>\n",
       "      <td>131</td>\n",
       "      <td>Facing installation issue with EcoBreeze AC. S...</td>\n",
       "      <td>Installation Issue</td>\n",
       "      <td>Low</td>\n",
       "      <td>EcoBreeze AC</td>\n",
       "      <td>face installation issue ecobreeze ac setup fai...</td>\n",
       "    </tr>\n",
       "    <tr>\n",
       "      <th>349</th>\n",
       "      <td>350</td>\n",
       "      <td>Facing installation issue with . Setup fails a...</td>\n",
       "      <td>Installation Issue</td>\n",
       "      <td>High</td>\n",
       "      <td>SmartWatch V2</td>\n",
       "      <td>face installation issue setup fail step</td>\n",
       "    </tr>\n",
       "    <tr>\n",
       "      <th>348</th>\n",
       "      <td>349</td>\n",
       "      <td>Can you tell me more about the Vision LED TV w...</td>\n",
       "      <td>General Inquiry</td>\n",
       "      <td>High</td>\n",
       "      <td>Vision LED TV</td>\n",
       "      <td>tell vision lead tv warranty available blue</td>\n",
       "    </tr>\n",
       "    <tr>\n",
       "      <th>440</th>\n",
       "      <td>441</td>\n",
       "      <td>Order #81531 for RoboChef Blender is 3 days la...</td>\n",
       "      <td>Late Delivery</td>\n",
       "      <td>Medium</td>\n",
       "      <td>RoboChef Blender</td>\n",
       "      <td>order robochef blender day late order</td>\n",
       "    </tr>\n",
       "    <tr>\n",
       "      <th>530</th>\n",
       "      <td>531</td>\n",
       "      <td>Not able to install my product.</td>\n",
       "      <td>Installation Issue</td>\n",
       "      <td>Medium</td>\n",
       "      <td>EcoBreeze AC</td>\n",
       "      <td>able install product</td>\n",
       "    </tr>\n",
       "    <tr>\n",
       "      <th>485</th>\n",
       "      <td>486</td>\n",
       "      <td>Facing installation issue with RoboChef Blende...</td>\n",
       "      <td>Installation Issue</td>\n",
       "      <td>Low</td>\n",
       "      <td>RoboChef Blender</td>\n",
       "      <td>face installation issue robochef blender setup...</td>\n",
       "    </tr>\n",
       "  </tbody>\n",
       "</table>\n",
       "</div>"
      ],
      "text/plain": [
       "     ticket_id                                        ticket_text  \\\n",
       "503        504            Received wrong product, order mixed up.   \n",
       "655        656  EcoBreeze AC is stuck. It stopped working afte...   \n",
       "698        699  Can't log in to mi account. Keeps showing unkn...   \n",
       "175        176  Is this item in stock? Delivery expected by 05...   \n",
       "130        131  Facing installation issue with EcoBreeze AC. S...   \n",
       "349        350  Facing installation issue with . Setup fails a...   \n",
       "348        349  Can you tell me more about the Vision LED TV w...   \n",
       "440        441  Order #81531 for RoboChef Blender is 3 days la...   \n",
       "530        531                    Not able to install my product.   \n",
       "485        486  Facing installation issue with RoboChef Blende...   \n",
       "\n",
       "             issue_type urgency_level           product  \\\n",
       "503          Wrong Item        Medium     SmartWatch V2   \n",
       "655      Product Defect        Medium      EcoBreeze AC   \n",
       "698      Account Access           Low     Vision LED TV   \n",
       "175     General Inquiry        Medium     SoundWave 300   \n",
       "130  Installation Issue           Low      EcoBreeze AC   \n",
       "349  Installation Issue          High     SmartWatch V2   \n",
       "348     General Inquiry          High     Vision LED TV   \n",
       "440       Late Delivery        Medium  RoboChef Blender   \n",
       "530  Installation Issue        Medium      EcoBreeze AC   \n",
       "485  Installation Issue           Low  RoboChef Blender   \n",
       "\n",
       "                                     ticket_text_clean  \n",
       "503                    receive wrong product order mix  \n",
       "655                   ecobreeze ac stick stop work day  \n",
       "698        log mi account keep show unknown issue help  \n",
       "175                         item stock delivery expect  \n",
       "130  face installation issue ecobreeze ac setup fai...  \n",
       "349            face installation issue setup fail step  \n",
       "348        tell vision lead tv warranty available blue  \n",
       "440              order robochef blender day late order  \n",
       "530                               able install product  \n",
       "485  face installation issue robochef blender setup...  "
      ]
     },
     "execution_count": 114,
     "metadata": {},
     "output_type": "execute_result"
    }
   ],
   "source": [
    "df.sample(10)"
   ]
  },
  {
   "cell_type": "code",
   "execution_count": 115,
   "id": "22a0d4d7-8d47-4c9f-9041-65eadc5ca4ed",
   "metadata": {},
   "outputs": [],
   "source": [
    "from sklearn.feature_extraction.text import TfidfVectorizer"
   ]
  },
  {
   "cell_type": "code",
   "execution_count": 126,
   "id": "6f01de9e-0904-4d60-8fa4-59b47aba48ff",
   "metadata": {},
   "outputs": [],
   "source": [
    "tfidf = TfidfVectorizer(max_features=300)\n",
    "X_tfidf = tfidf.fit_transform(df['ticket_text_clean'])"
   ]
  },
  {
   "cell_type": "code",
   "execution_count": 127,
   "id": "cbd1cbbb-e1d4-4ef3-b696-4a439f0924df",
   "metadata": {},
   "outputs": [],
   "source": [
    "df['ticket_length'] = df['ticket_text_clean'].apply(lambda x: len(x.split()))"
   ]
  },
  {
   "cell_type": "code",
   "execution_count": 128,
   "id": "a8e4738d-1141-4803-8223-e33a38dab11f",
   "metadata": {},
   "outputs": [],
   "source": [
    "# !pip install TextBlob\n",
    "from textblob import TextBlob"
   ]
  },
  {
   "cell_type": "code",
   "execution_count": 129,
   "id": "0bd09471-a763-4c09-96f1-1bbc746f9735",
   "metadata": {},
   "outputs": [],
   "source": [
    "df['sentiment'] = df['ticket_text_clean'].apply(lambda x: TextBlob(x).sentiment.polarity)"
   ]
  },
  {
   "cell_type": "code",
   "execution_count": 130,
   "id": "5583d641-89a5-45be-982f-d4d7991548ed",
   "metadata": {},
   "outputs": [
    {
     "data": {
      "text/html": [
       "<div>\n",
       "<style scoped>\n",
       "    .dataframe tbody tr th:only-of-type {\n",
       "        vertical-align: middle;\n",
       "    }\n",
       "\n",
       "    .dataframe tbody tr th {\n",
       "        vertical-align: top;\n",
       "    }\n",
       "\n",
       "    .dataframe thead th {\n",
       "        text-align: right;\n",
       "    }\n",
       "</style>\n",
       "<table border=\"1\" class=\"dataframe\">\n",
       "  <thead>\n",
       "    <tr style=\"text-align: right;\">\n",
       "      <th></th>\n",
       "      <th>ticket_id</th>\n",
       "      <th>ticket_text</th>\n",
       "      <th>issue_type</th>\n",
       "      <th>urgency_level</th>\n",
       "      <th>product</th>\n",
       "      <th>ticket_text_clean</th>\n",
       "      <th>ticket_length</th>\n",
       "      <th>sentiment</th>\n",
       "    </tr>\n",
       "  </thead>\n",
       "  <tbody>\n",
       "    <tr>\n",
       "      <th>0</th>\n",
       "      <td>1</td>\n",
       "      <td>Payment issue for my SmartWatch V2. I was unde...</td>\n",
       "      <td>Billing Problem</td>\n",
       "      <td>Medium</td>\n",
       "      <td>SmartWatch V2</td>\n",
       "      <td>payment issue smartwatch underbilled order</td>\n",
       "      <td>5</td>\n",
       "      <td>0.0</td>\n",
       "    </tr>\n",
       "    <tr>\n",
       "      <th>2</th>\n",
       "      <td>3</td>\n",
       "      <td>I ordered SoundWave 300 but got EcoBreeze AC i...</td>\n",
       "      <td>Wrong Item</td>\n",
       "      <td>Medium</td>\n",
       "      <td>SoundWave 300</td>\n",
       "      <td>order soundwave get ecobreeze ac instead order...</td>\n",
       "      <td>8</td>\n",
       "      <td>0.0</td>\n",
       "    </tr>\n",
       "    <tr>\n",
       "      <th>3</th>\n",
       "      <td>4</td>\n",
       "      <td>Facing installation issue with PhotoSnap Cam. ...</td>\n",
       "      <td>Installation Issue</td>\n",
       "      <td>Low</td>\n",
       "      <td>PhotoSnap Cam</td>\n",
       "      <td>face installation issue photosnap cam setup fa...</td>\n",
       "      <td>8</td>\n",
       "      <td>-0.5</td>\n",
       "    </tr>\n",
       "    <tr>\n",
       "      <th>5</th>\n",
       "      <td>6</td>\n",
       "      <td>Can you tell me more about the PhotoSnap Cam w...</td>\n",
       "      <td>General Inquiry</td>\n",
       "      <td>Medium</td>\n",
       "      <td>PhotoSnap Cam</td>\n",
       "      <td>tell photosnap cam warranty available red</td>\n",
       "      <td>6</td>\n",
       "      <td>0.2</td>\n",
       "    </tr>\n",
       "    <tr>\n",
       "      <th>6</th>\n",
       "      <td>7</td>\n",
       "      <td>is malfunction. It stopped working after just...</td>\n",
       "      <td>Product Defect</td>\n",
       "      <td>Low</td>\n",
       "      <td>EcoBreeze AC</td>\n",
       "      <td>malfunction stop work day</td>\n",
       "      <td>4</td>\n",
       "      <td>0.0</td>\n",
       "    </tr>\n",
       "  </tbody>\n",
       "</table>\n",
       "</div>"
      ],
      "text/plain": [
       "   ticket_id                                        ticket_text  \\\n",
       "0          1  Payment issue for my SmartWatch V2. I was unde...   \n",
       "2          3  I ordered SoundWave 300 but got EcoBreeze AC i...   \n",
       "3          4  Facing installation issue with PhotoSnap Cam. ...   \n",
       "5          6  Can you tell me more about the PhotoSnap Cam w...   \n",
       "6          7   is malfunction. It stopped working after just...   \n",
       "\n",
       "           issue_type urgency_level        product  \\\n",
       "0     Billing Problem        Medium  SmartWatch V2   \n",
       "2          Wrong Item        Medium  SoundWave 300   \n",
       "3  Installation Issue           Low  PhotoSnap Cam   \n",
       "5     General Inquiry        Medium  PhotoSnap Cam   \n",
       "6      Product Defect           Low   EcoBreeze AC   \n",
       "\n",
       "                                   ticket_text_clean  ticket_length  sentiment  \n",
       "0         payment issue smartwatch underbilled order              5        0.0  \n",
       "2  order soundwave get ecobreeze ac instead order...              8        0.0  \n",
       "3  face installation issue photosnap cam setup fa...              8       -0.5  \n",
       "5          tell photosnap cam warranty available red              6        0.2  \n",
       "6                          malfunction stop work day              4        0.0  "
      ]
     },
     "execution_count": 130,
     "metadata": {},
     "output_type": "execute_result"
    }
   ],
   "source": [
    "df.head()"
   ]
  },
  {
   "cell_type": "code",
   "execution_count": 131,
   "id": "f8e86eb6-293d-4ed3-9682-3b4125586cda",
   "metadata": {},
   "outputs": [],
   "source": [
    "y_issue = df['issue_type']\n",
    "y_urgency = df['urgency_level']"
   ]
  },
  {
   "cell_type": "code",
   "execution_count": 132,
   "id": "09e7f191-3d72-4e51-8a06-e989d5782bef",
   "metadata": {},
   "outputs": [],
   "source": [
    "from sklearn.model_selection import train_test_split\n",
    "from sklearn.feature_extraction.text import TfidfVectorizer\n",
    "from sklearn.ensemble import RandomForestClassifier\n",
    "from sklearn.linear_model import LogisticRegression\n",
    "from sklearn.metrics import classification_report, confusion_matrix"
   ]
  },
  {
   "cell_type": "code",
   "execution_count": 133,
   "id": "5a62a563-eda7-4059-9262-839b8f5d660e",
   "metadata": {},
   "outputs": [],
   "source": [
    "X_train_i, X_test_i, y_train_i, y_test_i = train_test_split(X_tfidf, y_issue, test_size=0.2, random_state=42)\n",
    "# for issue "
   ]
  },
  {
   "cell_type": "code",
   "execution_count": 140,
   "id": "c7587dd2-acd4-4f15-bcd4-77b7408dcd78",
   "metadata": {},
   "outputs": [],
   "source": [
    "rf_issue = RandomForestClassifier(n_estimators=100, max_depth=3, random_state=42)\n",
    "rf_issue.fit(X_train_i, y_train_i)\n",
    "y_pred_issue = rf_issue.predict(X_test_i)"
   ]
  },
  {
   "cell_type": "code",
   "execution_count": 141,
   "id": "30e7a1f7-a32d-45e5-8bd1-8a000f048fd4",
   "metadata": {},
   "outputs": [
    {
     "name": "stdout",
     "output_type": "stream",
     "text": [
      "                    precision    recall  f1-score   support\n",
      "\n",
      "    Account Access       1.00      0.96      0.98        23\n",
      "   Billing Problem       1.00      1.00      1.00        19\n",
      "   General Inquiry       0.96      1.00      0.98        25\n",
      "Installation Issue       1.00      0.97      0.98        29\n",
      "     Late Delivery       0.89      1.00      0.94        17\n",
      "    Product Defect       0.97      1.00      0.98        30\n",
      "        Wrong Item       1.00      0.91      0.95        23\n",
      "\n",
      "          accuracy                           0.98       166\n",
      "         macro avg       0.97      0.98      0.97       166\n",
      "      weighted avg       0.98      0.98      0.98       166\n",
      "\n"
     ]
    }
   ],
   "source": [
    "print(\"classification report - issue type\")\n",
    "print(classification_report(y_test_i, y_pred_issue))"
   ]
  },
  {
   "cell_type": "code",
   "execution_count": 143,
   "id": "b5f9e9f8-3768-4919-b9ae-38bb67eb1348",
   "metadata": {},
   "outputs": [
    {
     "name": "stdout",
     "output_type": "stream",
     "text": [
      "Cross-Validation Accuracy Scores: [0.98795181 0.97575758 0.93939394 0.95757576 0.98787879]\n",
      "Mean CV Accuracy: 0.9697115735669952\n"
     ]
    }
   ],
   "source": [
    "from sklearn.model_selection import cross_val_score\n",
    "\n",
    "scores = cross_val_score(rf_issue, X_tfidf, y_issue, cv=5)\n",
    "print(\"Cross-Validation Accuracy Scores:\", scores)\n",
    "print(\"Mean CV Accuracy:\", scores.mean())"
   ]
  },
  {
   "cell_type": "code",
   "execution_count": 145,
   "id": "343186a0-f184-40df-bc1a-420d01e95f33",
   "metadata": {},
   "outputs": [],
   "source": [
    "X_train_u, X_test_u, y_train_u, y_test_u = train_test_split(X_tfidf, y_urgency, test_size=0.2, random_state=42)\n",
    "# for urgency level"
   ]
  },
  {
   "cell_type": "code",
   "execution_count": 146,
   "id": "2ab29b08-96c0-4bd1-b2ba-835bf07099b2",
   "metadata": {},
   "outputs": [
    {
     "name": "stdout",
     "output_type": "stream",
     "text": [
      "Classification Report — Urgency Level:\n",
      "              precision    recall  f1-score   support\n",
      "\n",
      "        High       0.41      0.38      0.39        66\n",
      "         Low       0.30      0.30      0.30        43\n",
      "      Medium       0.35      0.39      0.37        57\n",
      "\n",
      "    accuracy                           0.36       166\n",
      "   macro avg       0.36      0.36      0.36       166\n",
      "weighted avg       0.36      0.36      0.36       166\n",
      "\n"
     ]
    }
   ],
   "source": [
    "rf_urgency = RandomForestClassifier(n_estimators=100, max_depth=3 ,random_state=42)\n",
    "rf_urgency.fit(X_train_u, y_train_u)\n",
    "y_pred_urgency = rf_urgency.predict(X_test_u)\n",
    "\n",
    "print(\"Classification Report — Urgency Level:\")\n",
    "print(classification_report(y_test_u, y_pred_urgency))"
   ]
  },
  {
   "cell_type": "code",
   "execution_count": null,
   "id": "de7f1cb5-b7f2-4aff-af97-6be679925fff",
   "metadata": {},
   "outputs": [],
   "source": []
  }
 ],
 "metadata": {
  "kernelspec": {
   "display_name": "Python 3 (ipykernel)",
   "language": "python",
   "name": "python3"
  },
  "language_info": {
   "codemirror_mode": {
    "name": "ipython",
    "version": 3
   },
   "file_extension": ".py",
   "mimetype": "text/x-python",
   "name": "python",
   "nbconvert_exporter": "python",
   "pygments_lexer": "ipython3",
   "version": "3.11.2"
  }
 },
 "nbformat": 4,
 "nbformat_minor": 5
}
